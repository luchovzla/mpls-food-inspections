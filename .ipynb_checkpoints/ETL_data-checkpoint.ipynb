{
 "cells": [
  {
   "cell_type": "markdown",
   "metadata": {},
   "source": [
    "# Minneapolis Food Inspections - ETL"
   ]
  },
  {
   "cell_type": "code",
   "execution_count": null,
   "metadata": {},
   "outputs": [],
   "source": [
    "# Dependencies\n",
    "\n",
    "import pandas as pd\n",
    "# import sqlalchemy\n",
    "from sqlalchemy.ext.automap import automap_base\n",
    "from sqlalchemy.orm import Session\n",
    "from sqlalchemy import create_engine\n",
    "from config import (user, password, host, port, database)"
   ]
  },
  {
   "cell_type": "markdown",
   "metadata": {},
   "source": [
    "## Extraction Phase"
   ]
  },
  {
   "cell_type": "code",
   "execution_count": null,
   "metadata": {},
   "outputs": [],
   "source": [
    "# Read CSV \n",
    "\n",
    "food_insp_df = pd.read_csv(\"Food_Inspections.csv\")"
   ]
  },
  {
   "cell_type": "markdown",
   "metadata": {},
   "source": [
    "## Transformation Phase"
   ]
  },
  {
   "cell_type": "code",
   "execution_count": null,
   "metadata": {},
   "outputs": [],
   "source": [
    "# Drop unneeded columns\n",
    "\n",
    "columns_to_drop = ['X', 'Y', 'HealthFacilityIDNumber',  'AddrNum', 'AddrNumSuffix',\n",
    "       'StreetName', 'StreetType', 'PostDir', 'Unit', 'City', 'State',\n",
    "       'County', 'ZipCode', 'APN', 'Ward', 'X_WebMercator', 'Y_WebMercator']\n",
    "\n",
    "food_insp_df_clean = food_insp_df.drop(columns = columns_to_drop)"
   ]
  },
  {
   "cell_type": "code",
   "execution_count": null,
   "metadata": {},
   "outputs": [],
   "source": [
    "# Drop any existing NA's\n",
    "\n",
    "food_insp_df_clean.dropna(how = 'any', inplace = True)"
   ]
  },
  {
   "cell_type": "code",
   "execution_count": null,
   "metadata": {},
   "outputs": [],
   "source": [
    "# Drop non-restaurant facilities\n",
    "\n",
    "restaurants_df = food_insp_df_clean.loc[food_insp_df_clean[\"FacilityCategory\"] == \"RESTAURANT\"]\n",
    "restaurants_df.head()"
   ]
  },
  {
   "cell_type": "code",
   "execution_count": null,
   "metadata": {},
   "outputs": [],
   "source": [
    "# Drop details of inspections and violations, won't be needed, as well as Restaurant Category\n",
    "\n",
    "inspection_details = ['FoodCodeText', 'FacilityCategory', 'RiskLevel', 'InspectorComments',\n",
    "       'InspectionResult', 'ViolationPriority', 'FoodCodeItem', 'YearOfInspection',\n",
    "       'ViolationStatus', 'ViolationPoints', 'ViolationIDNumber']\n",
    "\n",
    "restaurants_df_clean = restaurants_df.drop(columns = inspection_details)\n",
    "restaurants_df_clean.head(10)"
   ]
  },
  {
   "cell_type": "code",
   "execution_count": null,
   "metadata": {},
   "outputs": [],
   "source": [
    "# Drop duplicate inspection ID numbers (each inspection has a unique ID)\n",
    "\n",
    "restaurants_df_unique = restaurants_df_clean.drop_duplicates(\"InspectionIDNumber\")\n",
    "restaurants_df_unique.head()"
   ]
  },
  {
   "cell_type": "code",
   "execution_count": null,
   "metadata": {},
   "outputs": [],
   "source": [
    "# Rename and rearrange columns (OBJECTID is going to be our primary key column)\n",
    "## Verify that OBJECTID has unique values\n",
    "\n",
    "print(restaurants_df_unique.shape) # Dataframe dimensions\n",
    "print(restaurants_df_unique[\"OBJECTID\"].nunique()) # Number of unique values in the OBJECTID column"
   ]
  },
  {
   "cell_type": "code",
   "execution_count": null,
   "metadata": {},
   "outputs": [],
   "source": [
    "## Since the amount of unique values is the same as the number of rows, this means we can use this column as our primary key\n",
    "## Rename the \"OBJECTID\" column to \"id\" and rename rest of columns to snake case, this is to comply with PostgreSQL standards\n",
    "## We will also drop the Inspection ID column because it's not needed at this point\n",
    "\n",
    "new_column_names = {\"OBJECTID\": \"id\", \n",
    "                    \"BusinessName\": \"business_name\",\n",
    "                    \"FullAddress\": \"address\",\n",
    "                    \"InspectionType\": \"inspection_type\",\n",
    "                    \"DateOfInspection\": \"inspection_date\",\n",
    "                    \"InspectionScore\": \"inspection_score\",\n",
    "                    \"Neighborhood\": \"neighborhood\",\n",
    "                    \"Latitude\": \"latitude\",\n",
    "                    \"Longitude\": \"longitude\"}\n",
    "\n",
    "restaurants_df_lower = restaurants_df_unique.rename(columns = new_column_names).drop(columns = \"InspectionIDNumber\")\n",
    "restaurants_df_lower.head()"
   ]
  },
  {
   "cell_type": "code",
   "execution_count": null,
   "metadata": {},
   "outputs": [],
   "source": [
    "# Split date from time in inspection_date column, we only need the date component\n",
    "\n",
    "inspection_dates = restaurants_df_lower[\"inspection_date\"]\n",
    "new_insp_dates = [date.split(\" \")[0] for date in inspection_dates]\n",
    "restaurants_df_with_dates = restaurants_df_lower.assign(inspection_date = new_insp_dates)\n",
    "restaurants_df_with_dates"
   ]
  },
  {
   "cell_type": "markdown",
   "metadata": {},
   "source": [
    "## Loading Phase"
   ]
  },
  {
   "cell_type": "code",
   "execution_count": null,
   "metadata": {},
   "outputs": [],
   "source": [
    "# Create Postgres engine\n",
    "engine = create_engine(f'postgresql://{user}:{password}@{host}:{port}/{database}')"
   ]
  },
  {
   "cell_type": "code",
   "execution_count": null,
   "metadata": {},
   "outputs": [],
   "source": [
    "# Confirm connection was established\n",
    "\n",
    "## Declare base using `automap_base()`\n",
    "Base = automap_base()\n",
    "\n",
    "## Use the Base class to reflect the database tables\n",
    "Base.prepare(engine, reflect = True)\n",
    "\n",
    "## Print all of the classes mapped to the Base\n",
    "Base.classes.keys()"
   ]
  },
  {
   "cell_type": "code",
   "execution_count": null,
   "metadata": {},
   "outputs": [],
   "source": [
    "# Load to SQL using Pandas' to_sql function\n",
    "restaurants_df_with_dates.to_sql(name = \"food_inspections\", con = engine, if_exists = 'append', index = False)"
   ]
  }
 ],
 "metadata": {
  "kernelspec": {
   "display_name": "Python 3",
   "language": "python",
   "name": "python3"
  },
  "language_info": {
   "codemirror_mode": {
    "name": "ipython",
    "version": 3
   },
   "file_extension": ".py",
   "mimetype": "text/x-python",
   "name": "python",
   "nbconvert_exporter": "python",
   "pygments_lexer": "ipython3",
   "version": "3.6.10"
  }
 },
 "nbformat": 4,
 "nbformat_minor": 4
}
